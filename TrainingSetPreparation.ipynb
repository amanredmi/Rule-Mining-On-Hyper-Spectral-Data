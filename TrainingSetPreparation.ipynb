{
 "cells": [
  {
   "cell_type": "code",
   "execution_count": 32,
   "id": "c6de9a1f",
   "metadata": {},
   "outputs": [],
   "source": [
    "#!/usr/bin/env python\n",
    "# coding: utf-8\n",
    "\n",
    "# In[1]:\n",
    "\n",
    "\n",
    "import numpy as np\n",
    "import torch\n",
    "import torch.nn as nn\n",
    "from skimage import io, transform\n",
    "import torch.nn.functional as F\n",
    "import torch.nn as nn\n",
    "import torch.optim as optim\n",
    "import random\n",
    "from torch.utils.data import Dataset, DataLoader\n",
    "from torchvision import transforms, utils\n",
    "import os\n",
    "from os import walk\n",
    "import matplotlib.pyplot as plt\n",
    "import math\n",
    "import scipy\n",
    "\n",
    "\n"
   ]
  },
  {
   "cell_type": "code",
   "execution_count": 45,
   "id": "91a01f41",
   "metadata": {},
   "outputs": [],
   "source": [
    "\n",
    "source_path = './Indian Pines Dataset'\n",
    "destination_path = './Aman/30percent'"
   ]
  },
  {
   "cell_type": "code",
   "execution_count": 34,
   "id": "a7075e43",
   "metadata": {},
   "outputs": [],
   "source": [
    "random.seed(9)"
   ]
  },
  {
   "cell_type": "code",
   "execution_count": 46,
   "id": "aea9af22",
   "metadata": {},
   "outputs": [
    {
     "name": "stdout",
     "output_type": "stream",
     "text": [
      "X shape: (145, 145, 220)\n",
      "y shape: (145, 145)\n"
     ]
    }
   ],
   "source": [
    "\n",
    "def read_HSI():\n",
    "  X = np.load('./Indian Pines Dataset/ToA.npy')\n",
    "  y = np.load('./Indian Pines Dataset/Indian_pines_gt.npy')\n",
    "  print(f\"X shape: {X.shape}\\ny shape: {y.shape}\")\n",
    "  return X, y\n",
    "\n",
    "X, ds = read_HSI()"
   ]
  },
  {
   "cell_type": "code",
   "execution_count": 47,
   "id": "d8176161",
   "metadata": {},
   "outputs": [
    {
     "name": "stdout",
     "output_type": "stream",
     "text": [
      "(145, 145)\n"
     ]
    }
   ],
   "source": [
    "random.seed(9)\n",
    "#Build train test\n",
    "#ds = scipy.io.loadmat(source_path + '/Indian_pines_gt.mat')['indian_pines_gt']\n",
    "np.save(destination_path + '/Indian_pines_gt.npy',ds)\n",
    "io.imsave(destination_path+'/Indian_pines_gt.tif',ds)\n",
    "print(ds.shape)\n",
    "train = np.zeros([ds.shape[0],ds.shape[1]],dtype = np.uint8) + 17\n",
    "test = np.zeros([ds.shape[0],ds.shape[1]],dtype = np.uint8) + 17\n",
    "color_mapping = [[255,255,255],[255,254,137],[3,28,241],[255,89,1],[5,255,133],[255,2,251],[89,1,255],[3,171,255],[12,255,7],[172,175,84],[160,78,158],[101,173,255],[60,91,112],[104,192,63],[139,69,46],[119,255,172],[254,255,3]]\n",
    "ds_color = np.zeros([ds.shape[0],ds.shape[1],3],dtype = np.uint8)\n",
    "train_color = np.zeros([ds.shape[0],ds.shape[1],3],dtype = np.uint8)\n",
    "test_color = np.zeros([ds.shape[0],ds.shape[1],3],dtype = np.uint8)\n",
    "#ds_color = color_mapping[ds]\n",
    "#unknown = np.zeros([ds.shape[0],ds.shape[1]],dtype = np.uint8) + 255\n",
    "for i in range(0,ds.shape[0]):\n",
    "    for j in range(0,ds.shape[1]):\n",
    "        ds_color[i,j] = color_mapping[int(ds[i,j])]\n",
    "        if random.random() < 0.3:\n",
    "            train[i,j] = ds[i,j]\n",
    "            train_color[i,j] = color_mapping[int(ds[i,j])]\n",
    "        else:\n",
    "            test[i,j] = ds[i,j]\n",
    "            test_color[i,j] = color_mapping[int(ds[i,j])]\n",
    "\n",
    "\n",
    "\n",
    "io.imsave(destination_path+'/tr.tif',train)\n",
    "io.imsave(destination_path+'/ts.tif',test)\n",
    "np.save(destination_path+'/tr.npy',train)\n",
    "np.save(destination_path+'/ts.npy',test)\n",
    "\n",
    "io.imsave(destination_path+'/tr_color.tif',train_color)\n",
    "io.imsave(destination_path+'/ts_color.tif',test_color)\n",
    "np.save(destination_path+'/tr_color.npy',train_color)\n",
    "np.save(destination_path+'/ts_color.npy',test_color)\n",
    "\n",
    "io.imsave(destination_path+'/Indian_pines_gt_color.tif',ds_color)\n",
    "np.save(destination_path+'/Indian_pines_gt_color.npy',ds_color)\n",
    "#io.imsave(destination_path+'/u.tif',unknown)\n",
    "\n",
    "\n",
    "ToA = X\n",
    "np.save(destination_path+'/ToA.npy',ToA)\n",
    "\n",
    "if not os.path.exists(destination_path+'/ds/'):\n",
    "    os.mkdir(destination_path+'/ds/')\n",
    "if not os.path.exists(destination_path+'/tr/'):\n",
    "    os.mkdir(destination_path+'/tr/')\n",
    "if not os.path.exists(destination_path+'/ts/'):\n",
    "    os.mkdir(destination_path+'/ts/')\n",
    "if not os.path.exists(destination_path+'/tr_color/'):\n",
    "    os.mkdir(destination_path+'/tr_color/')\n",
    "if not os.path.exists(destination_path+'/ts_color/'):\n",
    "    os.mkdir(destination_path+'/ts_color/')\n",
    "\n",
    "patch = 40\n",
    "stride = 15\n",
    "\n",
    "for i in range(0,115,stride):\n",
    "    for j in range(0,115,stride):\n",
    "        #if (100.0 - (np.sum((tr[i:i + 100,j:j + 100] == [0,0,0]).all(axis = 2)))/100) > 30:\n",
    "            np.save(destination_path+'/ds/ds_'+str(i)+'_'+str(j)+'_'+str(i + patch)+'_'+str(j + patch),ToA[i:i + patch,j:j + patch])\n",
    "            np.save(destination_path+'/tr/tr_'+str(i)+'_'+str(j)+'_'+str(i + patch)+'_'+str(j + patch),train[i:i + patch,j:j + patch])\n",
    "            np.save(destination_path+'/ts/ts_'+str(i)+'_'+str(j)+'_'+str(i + patch)+'_'+str(j + patch),test[i:i + patch,j:j + patch])\n",
    "            np.save(destination_path+'/tr_color/tr_color_'+str(i)+'_'+str(j)+'_'+str(i + patch)+'_'+str(j + patch),train_color[i:i + patch,j:j + patch])\n",
    "            np.save(destination_path+'/ts_color/ts_color_'+str(i)+'_'+str(j)+'_'+str(i + patch)+'_'+str(j + patch),test_color[i:i + patch,j:j + patch])\n",
    "            io.imsave(destination_path+'/tr_color/tr_color_'+str(i)+'_'+str(j)+'_'+str(i + patch)+'_'+str(j + patch)+'.tif',train_color[i:i + patch,j:j + patch])\n",
    "            io.imsave(destination_path+'/ts_color/ts_color_'+str(i)+'_'+str(j)+'_'+str(i + patch)+'_'+str(j + patch)+'.tif',test_color[i:i + patch,j:j + patch])\n"
   ]
  },
  {
   "cell_type": "code",
   "execution_count": null,
   "id": "152a76e0",
   "metadata": {},
   "outputs": [],
   "source": []
  }
 ],
 "metadata": {
  "kernelspec": {
   "display_name": "Python 3 (ipykernel)",
   "language": "python",
   "name": "python3"
  },
  "language_info": {
   "codemirror_mode": {
    "name": "ipython",
    "version": 3
   },
   "file_extension": ".py",
   "mimetype": "text/x-python",
   "name": "python",
   "nbconvert_exporter": "python",
   "pygments_lexer": "ipython3",
   "version": "3.11.5"
  }
 },
 "nbformat": 4,
 "nbformat_minor": 5
}
